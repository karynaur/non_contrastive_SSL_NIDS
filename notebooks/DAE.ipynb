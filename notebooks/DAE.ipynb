{
 "cells": [
  {
   "cell_type": "code",
   "execution_count": null,
   "metadata": {},
   "outputs": [],
   "source": [
    "# imports\n",
    "from data.dataset import IntrusionData\n",
    "import numpy as np\n",
    "from torch.utils.data import DataLoader"
   ]
  },
  {
   "attachments": {},
   "cell_type": "markdown",
   "metadata": {},
   "source": [
    "# Parameter"
   ]
  },
  {
   "cell_type": "code",
   "execution_count": null,
   "metadata": {},
   "outputs": [],
   "source": [
    "# data set\n",
    "test_ratio = 0.5\n",
    "contamination_rate = 0.0\n",
    "\n",
    "# general\n",
    "ckpt_root = '../tmp'\n",
    "ckpt_file = None # if checkpoint\n",
    "\n",
    "benign_label = 0\n",
    "anomaly_label = 1\n",
    "batch_size = 8192\n",
    "lr = 1e-4\n",
    "weight_decay = 1e-4\n",
    "epochs = 5\n",
    "device = 'cuda'\n",
    "\n",
    "# AE params\n",
    "latent_dim = 2\n",
    "act_fn = 'relu'\n",
    "n_layers = 4\n",
    "compression_factor = 2\n",
    "reg = 0.5"
   ]
  },
  {
   "attachments": {},
   "cell_type": "markdown",
   "metadata": {},
   "source": [
    "# Load Data"
   ]
  },
  {
   "cell_type": "code",
   "execution_count": null,
   "metadata": {},
   "outputs": [],
   "source": [
    "# load data set\n",
    "path_to_dataset = '../data/processed/unswnb15.csv'\n",
    "dataset = IntrusionData(path_to_dataset)\n",
    "dataset.load_data()\n",
    "\n",
    "train_set, test_set = dataset.split_train_test(test_ratio=test_ratio, contamination_rate=contamination_rate, pos_label=anomaly_label)\n",
    "train_ldr = DataLoader(dataset=train_set, batch_size=batch_size, shuffle=True)\n",
    "test_ldr = DataLoader(dataset=test_set, batch_size=batch_size, shuffle=True)"
   ]
  },
  {
   "cell_type": "code",
   "execution_count": null,
   "metadata": {},
   "outputs": [],
   "source": [
    "print('columns: ', dataset.columns)\n",
    "x_train, y_train = dataset[train_set.indices]\n",
    "x_test, y_test = dataset[test_set.indices]\n",
    "\n",
    "print('train set: ')\n",
    "print('samples: ', len(y_train))\n",
    "print('normal samples: ', len(np.where(y_train == benign_label)[0]))\n",
    "print('malicious samples: ', len(np.where(y_train == anomaly_label)[0]))\n",
    "print(\"\\n\")\n",
    "print('test set: ')\n",
    "print('samples: ', len(y_test))\n",
    "print('normal samples: ', len(np.where(y_test == benign_label)[0]))\n",
    "print('malicious samples: ', len(np.where(y_test == anomaly_label)[0]))"
   ]
  },
  {
   "attachments": {},
   "cell_type": "markdown",
   "metadata": {},
   "source": [
    "# DAE Training"
   ]
  },
  {
   "cell_type": "code",
   "execution_count": null,
   "metadata": {},
   "outputs": [],
   "source": [
    "from baselines.model.reconstruction import AutoEncoder\n",
    "from baselines.trainer.reconstruction import AutoEncoderTrainer\n",
    "\n",
    "\n",
    "model = AutoEncoder(\n",
    "    device=device,\n",
    "    in_features=dataset.in_features,\n",
    "    n_instances=dataset.n_instances,\n",
    "    latent_dim=latent_dim,\n",
    "    act_fn=act_fn,\n",
    "    n_layers=n_layers,\n",
    "    compression_factor=compression_factor,\n",
    "    reg=reg\n",
    ")\n",
    "\n",
    "trainer = AutoEncoderTrainer(\n",
    "    model=model,\n",
    "    batch_size=batch_size,\n",
    "    lr=lr,\n",
    "    weight_decay=weight_decay,\n",
    "    n_epochs=epochs,\n",
    "    device=device,\n",
    "    anomaly_label=anomaly_label,\n",
    "    test_ldr=test_ldr,\n",
    "    ckpt_root=ckpt_root\n",
    ")"
   ]
  },
  {
   "cell_type": "code",
   "execution_count": null,
   "metadata": {},
   "outputs": [],
   "source": [
    "# If loading a checkpoint from file\n",
    "if ckpt_file:\n",
    "    from baselines.trainer.reconstruction import AutoEncoderTrainer\n",
    "    trainer, model = AutoEncoderTrainer.load_from_file(ckpt_file, device=device)\n",
    "    trainer.test_ldr = test_ldr"
   ]
  },
  {
   "cell_type": "code",
   "execution_count": null,
   "metadata": {},
   "outputs": [],
   "source": [
    "# train model\n",
    "trainer.train(train_ldr)"
   ]
  },
  {
   "cell_type": "code",
   "execution_count": null,
   "metadata": {},
   "outputs": [],
   "source": [
    "trainer.plot_metrics('../reports/figures/DAE_NB15_KDD.png')"
   ]
  }
 ],
 "metadata": {
  "kernelspec": {
   "display_name": "C-AI",
   "language": "python",
   "name": "python3"
  },
  "language_info": {
   "codemirror_mode": {
    "name": "ipython",
    "version": 3
   },
   "file_extension": ".py",
   "mimetype": "text/x-python",
   "name": "python",
   "nbconvert_exporter": "python",
   "pygments_lexer": "ipython3",
   "version": "3.8.16"
  },
  "vscode": {
   "interpreter": {
    "hash": "f3dd0f9ff1e75967e5b18de7cfeadb54785350b1effac9294121d6095df17f9c"
   }
  }
 },
 "nbformat": 4,
 "nbformat_minor": 2
}
